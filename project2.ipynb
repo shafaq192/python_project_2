{
 "cells": [
  {
   "cell_type": "code",
   "execution_count": 1,
   "id": "bb7ae454",
   "metadata": {},
   "outputs": [],
   "source": [
    "import pymysql\n",
    "import mysql.connector\n",
    "def Createconn():\n",
    "    return pymysql.connect(host=\"localhost\",database='sakila',user='root',password=\"Dar#19al\",port=3306)\n"
   ]
  },
  {
   "cell_type": "code",
   "execution_count": 2,
   "id": "e5a97e50",
   "metadata": {},
   "outputs": [],
   "source": [
    "def createtable():\n",
    "    conn=Createconn()\n",
    "    cursor=conn.cursor()\n",
    "    query=\"create table student(id int primary key auto_increment,name varchar(30),email varchar(30),city varchar(30))\"\n",
    "    cursor.execute(query)\n",
    "    print(\"Table is created successfully\")\n",
    "    conn.close()\n"
   ]
  },
  {
   "cell_type": "code",
   "execution_count": 20,
   "id": "2239bcd3",
   "metadata": {},
   "outputs": [
    {
     "name": "stdout",
     "output_type": "stream",
     "text": [
      "Table is created successfully\n"
     ]
    }
   ],
   "source": [
    "createtable()"
   ]
  },
  {
   "cell_type": "code",
   "execution_count": 3,
   "id": "7270363c",
   "metadata": {},
   "outputs": [],
   "source": [
    "def insertdata(name,email,city):\n",
    "    conn=Createconn()\n",
    "    cursor=conn.cursor()\n",
    "    args=(name,email,city)\n",
    "    query=\"insert into student(name,email,city)values(%s,%s,%s)\"\n",
    "    cursor.execute(query,args)\n",
    "    print(\"Data inserted successfully\")\n",
    "    conn.commit()\n",
    "    conn.close()\n"
   ]
  },
  {
   "cell_type": "code",
   "execution_count": 4,
   "id": "19e9e854",
   "metadata": {},
   "outputs": [
    {
     "name": "stdout",
     "output_type": "stream",
     "text": [
      "Enter your name: samar\n",
      "Enter your email: samarjaiswal2020@gmail.com\n",
      "Enter city: Lucknow\n",
      "Data inserted successfully\n"
     ]
    }
   ],
   "source": [
    "n=input(\"Enter your name: \")\n",
    "e=input(\"Enter your email: \")\n",
    "c=input(\"Enter city: \")\n",
    "insertdata(n,e,c)"
   ]
  },
  {
   "cell_type": "code",
   "execution_count": 5,
   "id": "bfadf690",
   "metadata": {},
   "outputs": [],
   "source": [
    "def ShowData():\n",
    "    conn=Createconn()\n",
    "    cursor=conn.cursor()\n",
    "    query=\"select * from student\"\n",
    "    cursor.execute(query)\n",
    "    result=cursor.fetchall()\n",
    "    for i in result:\n",
    "        print(i)"
   ]
  },
  {
   "cell_type": "code",
   "execution_count": 6,
   "id": "d80eba3c",
   "metadata": {},
   "outputs": [
    {
     "name": "stdout",
     "output_type": "stream",
     "text": [
      "(1, 'shafaq', 'shafaqfarooqui91@gmail.com', 'Chhindwara')\n",
      "(2, 'samar', 'samarjaiswal2020@gmail.com', 'Lucknow')\n"
     ]
    }
   ],
   "source": [
    "ShowData()"
   ]
  },
  {
   "cell_type": "code",
   "execution_count": 7,
   "id": "de9ed244",
   "metadata": {},
   "outputs": [],
   "source": [
    "def UpdateData(name,email,city,sid):\n",
    "    conn=Createconn()\n",
    "    cursor=conn.cursor()\n",
    "    args=(name,email,city,sid)\n",
    "    query=\"update student set name=%s,email=%s,city=%s where id=%s\"\n",
    "    cursor.execute(query,args)\n",
    "    print(\"Data Upadated\")\n",
    "    conn.commit()\n",
    "    conn.close()"
   ]
  },
  {
   "cell_type": "code",
   "execution_count": 8,
   "id": "e8fbb0ca",
   "metadata": {},
   "outputs": [
    {
     "name": "stdout",
     "output_type": "stream",
     "text": [
      "Enter the id: 1\n",
      "Enter your name: Shafaq\n",
      "Enter your email: shafaqfarooqui91@gmail.com\n",
      "Enter city: Chhindwara\n",
      "Data Upadated\n"
     ]
    }
   ],
   "source": [
    "sid=int(input(\"Enter the id: \"))\n",
    "n=input(\"Enter your name: \")\n",
    "e=input(\"Enter your email: \")\n",
    "c=input(\"Enter city: \")\n",
    "UpdateData(n,e,c,sid)"
   ]
  },
  {
   "cell_type": "code",
   "execution_count": 9,
   "id": "1c5566bc",
   "metadata": {},
   "outputs": [
    {
     "name": "stdout",
     "output_type": "stream",
     "text": [
      "(1, 'Shafaq', 'shafaqfarooqui91@gmail.com', 'Chhindwara')\n",
      "(2, 'samar', 'samarjaiswal2020@gmail.com', 'Lucknow')\n"
     ]
    }
   ],
   "source": [
    "ShowData()"
   ]
  },
  {
   "cell_type": "code",
   "execution_count": 11,
   "id": "1e604968",
   "metadata": {},
   "outputs": [],
   "source": [
    "def DeleteData(sid):\n",
    "    conn=Createconn()\n",
    "    cursor=conn.cursor()\n",
    "    args=(sid)\n",
    "    query=\"delete from student where id=%s\"\n",
    "    cursor.execute(query,args)\n",
    "    print(\"Data deleted successfully\")\n",
    "    conn.commit()\n",
    "    conn.close()"
   ]
  },
  {
   "cell_type": "code",
   "execution_count": 12,
   "id": "9c7b6eb5",
   "metadata": {},
   "outputs": [
    {
     "name": "stdout",
     "output_type": "stream",
     "text": [
      "Enter id: 1\n",
      "Data deleted successfully\n"
     ]
    }
   ],
   "source": [
    "sid=int(input(\"Enter id: \"))\n",
    "DeleteData(sid)"
   ]
  },
  {
   "cell_type": "code",
   "execution_count": 13,
   "id": "1b50d2eb",
   "metadata": {},
   "outputs": [
    {
     "name": "stdout",
     "output_type": "stream",
     "text": [
      "(2, 'samar', 'samarjaiswal2020@gmail.com', 'Lucknow')\n"
     ]
    }
   ],
   "source": [
    "ShowData()"
   ]
  },
  {
   "cell_type": "code",
   "execution_count": null,
   "id": "03a765f2",
   "metadata": {},
   "outputs": [],
   "source": []
  }
 ],
 "metadata": {
  "kernelspec": {
   "display_name": "Python 3 (ipykernel)",
   "language": "python",
   "name": "python3"
  },
  "language_info": {
   "codemirror_mode": {
    "name": "ipython",
    "version": 3
   },
   "file_extension": ".py",
   "mimetype": "text/x-python",
   "name": "python",
   "nbconvert_exporter": "python",
   "pygments_lexer": "ipython3",
   "version": "3.11.5"
  }
 },
 "nbformat": 4,
 "nbformat_minor": 5
}
